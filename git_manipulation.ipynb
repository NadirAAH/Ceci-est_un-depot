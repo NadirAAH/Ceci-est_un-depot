{
  "nbformat": 4,
  "nbformat_minor": 0,
  "metadata": {
    "colab": {
      "provenance": [],
      "authorship_tag": "ABX9TyNiLgerwtyxvUx4O5ccsJMD",
      "include_colab_link": true
    },
    "kernelspec": {
      "name": "python3",
      "display_name": "Python 3"
    },
    "language_info": {
      "name": "python"
    }
  },
  "cells": [
    {
      "cell_type": "markdown",
      "metadata": {
        "id": "view-in-github",
        "colab_type": "text"
      },
      "source": [
        "<a href=\"https://colab.research.google.com/github/NadirAAH/Ceci-est_un-depot/blob/main/git_manipulation.ipynb\" target=\"_parent\"><img src=\"https://colab.research.google.com/assets/colab-badge.svg\" alt=\"Open In Colab\"/></a>"
      ]
    },
    {
      "cell_type": "code",
      "execution_count": 26,
      "metadata": {
        "id": "sa0j3HZPKTeW",
        "colab": {
          "base_uri": "https://localhost:8080/"
        },
        "outputId": "f4d02e91-92a9-403f-e76d-81ca15496bd3"
      },
      "outputs": [
        {
          "output_type": "stream",
          "name": "stdout",
          "text": [
            "Already on 'nadir'\n",
            "/content/DST_RVL-CDIP\n"
          ]
        }
      ],
      "source": [
        "#  !git help\n",
        "# !git clone https://github.com/truongxavier/DST_RVL-CDIP\n",
        "# %cd /content/DST_RVL-CDIP/\n",
        "# !git branch nadir\n",
        "!git checkout nadir\n",
        "!pwd"
      ]
    }
  ]
}